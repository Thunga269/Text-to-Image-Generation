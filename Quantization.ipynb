{
 "cells": [
  {
   "cell_type": "code",
   "execution_count": null,
   "id": "6cc512b8",
   "metadata": {},
   "outputs": [],
   "source": [
    "import torch\n",
    "import torch.nn as nn\n",
    "import torch.nn.functional as F\n",
    "\n",
    "\n",
    "class VectorQuantizer(nn.Module):\n",
    "    def __init__(self, num_codes=256, code_dim=64, beta=0.25, remap=None):\n",
    "        \"\"\"\n",
    "        num_codes : số lượng mã trong codebook (K)\n",
    "        code_dim  : chiều của mỗi vector mã (D)\n",
    "        beta      : hệ số commitment loss\n",
    "        remap     : tùy chọn ánh xạ lại index (mặc định None)\n",
    "        \"\"\"\n",
    "        super().__init__()\n",
    "        self.num_codes = num_codes\n",
    "        self.code_dim = code_dim\n",
    "        self.beta = beta\n",
    "        self.remap = remap\n",
    "\n",
    "        # Codebook: K x D\n",
    "        self.embedding = nn.Embedding(num_codes, code_dim)\n",
    "        self.embedding.weight.data.uniform_(-1.0 / num_codes, 1.0 / num_codes)\n",
    "\n",
    "    def forward(self, z_e):\n",
    "        \"\"\"\n",
    "        z_e: (B, D, H, W) - latent từ encoder\n",
    "        \"\"\"\n",
    "        B, D, H, W = z_e.shape\n",
    "        # -> (B*H*W, D)\n",
    "        z_flat = z_e.permute(0, 2, 3, 1).contiguous().view(-1, D)\n",
    "\n",
    "        # Tính khoảng cách (N, K)\n",
    "        dist = (\n",
    "            torch.sum(z_flat ** 2, dim=1, keepdim=True)\n",
    "            + torch.sum(self.embedding.weight ** 2, dim=1)\n",
    "            - 2 * torch.matmul(z_flat, self.embedding.weight.t())\n",
    "        )\n",
    "\n",
    "        # Chọn index gần nhất\n",
    "        indices = torch.argmin(dist, dim=1)  # (N,)\n",
    "        z_q = self.embedding(indices).view(B, H, W, D)  # (B,H,W,D)\n",
    "\n",
    "        # Straight-through Estimator trick\n",
    "        z_q_st = z_e.permute(0, 2, 3, 1) + (z_q - z_e.permute(0, 2, 3, 1)).detach()\n",
    "\n",
    "        # Loss\n",
    "        loss_commit = self.beta * F.mse_loss(z_e.permute(0, 2, 3, 1), z_q.detach())\n",
    "        loss_codebook = F.mse_loss(z_q, z_e.permute(0, 2, 3, 1).detach())\n",
    "        loss = loss_commit + loss_codebook\n",
    "\n",
    "        # (B,D,H,W)\n",
    "        z_q_st = z_q_st.permute(0, 3, 1, 2).contiguous()\n",
    "\n",
    "        return z_q_st, loss, indices\n",
    "\n",
    "\n",
    "\n"
   ]
  },
  {
   "cell_type": "code",
   "execution_count": null,
   "id": "80442b04",
   "metadata": {},
   "outputs": [
    {
     "name": "stdout",
     "output_type": "stream",
     "text": [
      "Quantized latent shape: torch.Size([2, 64, 32, 16])\n",
      "Indices shape: torch.Size([1024])\n",
      "Loss: 1.2449116706848145\n"
     ]
    }
   ],
   "source": [
    "torch.manual_seed(0)\n",
    "encoder_output = torch.randn(2, 64, 32, 16)  # (B=2, D=64, H=32, W=16)\n",
    "\n",
    "vq = VectorQuantizer(num_codes=256, code_dim=64)\n",
    "\n",
    "z_q, loss, indices = vq(encoder_output)\n",
    "\n",
    "print(\"Quantized latent shape:\", z_q.shape)   # (2, 64, 16, 16)\n",
    "print(\"Indices shape:\", indices.shape)        # (2x32x16)\n",
    "print(\"Loss:\", loss.item())\n",
    "\n"
   ]
  }
 ],
 "metadata": {
  "kernelspec": {
   "display_name": "env_TextToImage",
   "language": "python",
   "name": "python3"
  },
  "language_info": {
   "codemirror_mode": {
    "name": "ipython",
    "version": 3
   },
   "file_extension": ".py",
   "mimetype": "text/x-python",
   "name": "python",
   "nbconvert_exporter": "python",
   "pygments_lexer": "ipython3",
   "version": "3.10.18"
  }
 },
 "nbformat": 4,
 "nbformat_minor": 5
}
